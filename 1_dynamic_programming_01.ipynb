{
  "nbformat": 4,
  "nbformat_minor": 0,
  "metadata": {
    "colab": {
      "name": "1. dynamic_programming_01.ipynb",
      "provenance": [],
      "collapsed_sections": [],
      "authorship_tag": "ABX9TyOvm2HlMZWtigUphvbydU8o",
      "include_colab_link": true
    },
    "kernelspec": {
      "name": "python3",
      "display_name": "Python 3"
    },
    "language_info": {
      "name": "python"
    }
  },
  "cells": [
    {
      "cell_type": "markdown",
      "metadata": {
        "id": "view-in-github",
        "colab_type": "text"
      },
      "source": [
        "<a href=\"https://colab.research.google.com/github/smf-9000/learning-and-practicing/blob/main/1_dynamic_programming_01.ipynb\" target=\"_parent\"><img src=\"https://colab.research.google.com/assets/colab-badge.svg\" alt=\"Open In Colab\"/></a>"
      ]
    },
    {
      "cell_type": "markdown",
      "source": [
        "**First impression:** DP seems very interesting, and I also have a strange impression that practice is more than necessary for this field. It, in some weird way, resemble me to Factorization of polynomials. Better to not explain :)"
      ],
      "metadata": {
        "id": "qtF8havxcaES"
      }
    },
    {
      "cell_type": "markdown",
      "source": [
        "I will start with finding solutions for problems from the DP field and try later to find a connection with theory."
      ],
      "metadata": {
        "id": "D5FSFK4ufG_7"
      }
    },
    {
      "cell_type": "markdown",
      "source": [
        "# Code / Problems"
      ],
      "metadata": {
        "id": "gfuaEjgKhXDI"
      }
    },
    {
      "cell_type": "markdown",
      "source": [
        "## 10. Regular Expression Matching"
      ],
      "metadata": {
        "id": "Jo41oLCzhPeC"
      }
    },
    {
      "cell_type": "markdown",
      "source": [
        "10. Regular Expression Matching (`https://leetcode.com/problems/regular-expression-matching/`)\n",
        "\n",
        "Given an input string `s` and a pattern `p`, implement regular expression matching with support for `'.'` and `'*'` where:\n",
        "\n",
        "`'.'` Matches any single character.​​​​\n",
        "`'*'` Matches zero or more of the preceding element.\n",
        "\n",
        "The matching should cover the entire input string (not partial)."
      ],
      "metadata": {
        "id": "_ARaeiZdgU5n"
      }
    },
    {
      "cell_type": "markdown",
      "source": [
        "\n",
        "\n",
        "---\n",
        "\n"
      ],
      "metadata": {
        "id": "ugjNvJRFoZOx"
      }
    },
    {
      "cell_type": "markdown",
      "source": [
        "Usually, in this situation, we have some DP matrix which we have to fill in a clever way. So we have to create a few rules for filling the DP matrix.\n",
        "\n",
        "Let's associate the x-axis to the pattern and the y-axis to the string. The idea is to test the pattern matching to the string by incrementally increasing both of them. To clarify, at the start, both the pattern and the string will be zero-length, and we will be testing them one to another until both of them reach full length.\n",
        "\n",
        "The column on the most right will tell us whether the whole pattern matches one of the states `[the empty string, the first character of the string, the first two characters of the string, ..., the whole string]`.\n",
        "\n",
        "Steps:\n",
        "\n",
        "It is obvious that `DP[0][0] = True`\n",
        "\n",
        "If we encounter a letter in the pattern, we have situation: \n",
        "\n",
        "> `True if DP[i-1][j-1] == True and s[i] = p[j] else False`\n",
        "\n",
        "if we encounter a dot symbol (\".\") in the pattern, we have: \n",
        "\n",
        "> `True if DP[i-1][j-1] == True else False`\n",
        "\n",
        "and if we encounter a asterisk symbol (\"*\") in the pattern, we have:\n",
        "\n",
        "> `True for DP[i][j-1] == True`\n",
        "\n",
        "> `True for DP[i-1][j] == True and char_before == '.'`\n",
        "\n",
        "> `True for DP[i-1][j] == True and char_before == s[i]`\n",
        "\n",
        "The last cell in the last row of the matrix contains the answer to the question \"does pattern match string?\" the result.\n",
        "\n",
        "> `result = DP[-1][-1]`\n"
      ],
      "metadata": {
        "id": "aq5LFwzqo3qx"
      }
    },
    {
      "cell_type": "code",
      "execution_count": null,
      "metadata": {
        "id": "ItydcY5QcT3n"
      },
      "outputs": [],
      "source": [
        "class Solution:\n",
        "    def isMatch(self, s: str, p: str) -> bool:\n",
        "        A = [c for i, c in enumerate(list(p)) if i < len(p)-1 and p[i+1] == '*']\n",
        "        p = re.sub(r'.\\*', '*', p)\n",
        "        D = [[False] * (len(p)+1) for _ in range(len(s)+1)]   # +1 for 0th step\n",
        "        p_p = None\n",
        "        for r in range(len(D)):\n",
        "            D[r][0] = True if r == 0 else False\n",
        "            k = 0\n",
        "            for c in range(1, len(D[0])):\n",
        "                i = r - 1\n",
        "                j = c - 1\n",
        "                asterisk = True if p[j] == '*' else False\n",
        "                p_c = p[j]\n",
        "                if asterisk:\n",
        "                    p_c = A[k]\n",
        "                    k += 1\n",
        "                if r == 0:\n",
        "                    if p[j] == '*':\n",
        "                        D[r][c] = D[0][c-1]\n",
        "                else:\n",
        "                    if p_c == '.':\n",
        "                        if asterisk:\n",
        "                            D[r][c] = D[r][c-1] or D[r-1][c]\n",
        "                        else:\n",
        "                            D[r][c] = D[r-1][c-1]\n",
        "                    else:\n",
        "                        if asterisk:\n",
        "                            D[r][c] = D[r][c-1] or (D[r-1][c] and s[i] == p_c)\n",
        "                        else:\n",
        "                            D[r][c] = D[r-1][c-1] and s[i] == p_c\n",
        "                p_p = p_c\n",
        "        return D[-1][-1]"
      ]
    },
    {
      "cell_type": "markdown",
      "source": [
        "\n",
        "\n",
        "---\n",
        "---\n",
        "---\n",
        "\n"
      ],
      "metadata": {
        "id": "F9aolJ8ANflz"
      }
    },
    {
      "cell_type": "markdown",
      "source": [
        "## 312. Burst Balloons"
      ],
      "metadata": {
        "id": "EGuLe0kliSMq"
      }
    },
    {
      "cell_type": "markdown",
      "source": [
        "312. Burst Balloons `https://leetcode.com/problems/burst-balloons/`"
      ],
      "metadata": {
        "id": "DRIk75iTiXe6"
      }
    },
    {
      "cell_type": "markdown",
      "source": [
        "You are given `n` balloons, indexed from `0` to `n - 1`. Each balloon is painted with a number on it represented by an array `nums`. You are asked to burst all the balloons.\n",
        "\n",
        "If you burst the `ith` balloon, you will get `nums[i - 1] * nums[i] * nums[i + 1]` coins. If `i - 1` or `i + 1` goes out of bounds of the array, then treat it as if there is a balloon with a `1` painted on it.\n",
        "\n",
        "Return the `maximum coins you can collect by bursting the balloons wisely`."
      ],
      "metadata": {
        "id": "Dc9fkwCjief5"
      }
    },
    {
      "cell_type": "markdown",
      "source": [
        "\n",
        "\n",
        "---\n",
        "classical DP: ⬇\n"
      ],
      "metadata": {
        "id": "Oa2xAxyKazpd"
      }
    },
    {
      "cell_type": "markdown",
      "source": [
        "If we try on the first step to divide this problem into the left and right parts, we can recognize that is not possible. For the top-down approach, we need all balloons present in one list. But, if we try to split the problem at the last step on the left and right parts, that seems achievable.\n",
        "```\n",
        "As we have added '1' on either side of the list, our last step would be similar to this one:\n",
        "[1.......x.............1]\n",
        " =======================\n",
        "1*x*1 + left_region + right_region\n",
        "\n",
        "The step before the last would be similar to this one:\n",
        "[1.......x......y......1]\n",
        "         ===============\n",
        "x*y*1 + (x,y)region + (y,end)region\n",
        "\n",
        "```\n",
        "For this pseudocode, we don't need an additional explanation. If we imagine these steps to the end, we recognize that we need solutions for all adjacent regions from length 3 to length len(N)-1 if we want to cover all combinations for the potential final step.\n",
        "\n",
        "Considering how we write down data in the DP matrix, it is clear that the final solution is `D[0][size-1]`."
      ],
      "metadata": {
        "id": "y06kcLl3xkOK"
      }
    },
    {
      "cell_type": "code",
      "source": [
        "class Solution:\n",
        "    def maxCoins(self, nums: List[int]) -> int:\n",
        "        N = [e for e in [1, *nums, 1] if e > 0]\n",
        "        size = len(N)\n",
        "        D = [[0] * size for _ in range(size)]\n",
        "        for d in range(2, size):\n",
        "            for l in range(0, size-d):\n",
        "                r = l + d\n",
        "                for m in range(l+1, r):\n",
        "                    D[l][r] = max(D[l][r], N[l] * N[m] * N[r] + D[l][m] + D[m][r])\n",
        "        return D[0][size-1]"
      ],
      "metadata": {
        "id": "pOmx9h0diNYJ"
      },
      "execution_count": null,
      "outputs": []
    },
    {
      "cell_type": "markdown",
      "source": [
        "\n",
        "\n",
        "---\n",
        "\n",
        "something relatively new: ⬇"
      ],
      "metadata": {
        "id": "Kk7HkeYh5fqh"
      }
    },
    {
      "cell_type": "markdown",
      "source": [
        "As we code in python, there is one nice functionality to tight a code a bit. `@functools.cache(user_function)`\n",
        "\n",
        "***New in version 3.9.*** `https://docs.python.org/3/library/functools.html`\n",
        "\n",
        "> `def: Simple lightweight unbounded function cache. Sometimes called “memoize”.`\n",
        "\n",
        "This is practically a replacement for the DP matrix. We just need to create a function with no objects as arguments and \"decorate\" it.\n",
        "\n",
        "Follows refactored code for this new functionality:"
      ],
      "metadata": {
        "id": "MsX3uK4e5jnH"
      }
    },
    {
      "cell_type": "code",
      "source": [
        "from functools import cache\n",
        "\n",
        "class Solution:\n",
        "    def maxCoins(self, nums: List[int]) -> int:\n",
        "        N = [e for e in [1, *nums, 1] if e > 0]\n",
        "\n",
        "        @cache\n",
        "        def rec(a, b):\n",
        "            n = 0\n",
        "            for i in range(a+1, b):\n",
        "                t = N[a]*N[i]*N[b] + rec(a, i) + rec(i, b)\n",
        "                if n < t:\n",
        "                    n = t\n",
        "            return n\n",
        "        \n",
        "        return rec(0, len(N)-1)"
      ],
      "metadata": {
        "id": "mCbeamMExf_k"
      },
      "execution_count": null,
      "outputs": []
    },
    {
      "cell_type": "markdown",
      "source": [
        " 😊"
      ],
      "metadata": {
        "id": "_JQH2PBDZQey"
      }
    },
    {
      "cell_type": "markdown",
      "source": [
        "\n",
        "\n",
        "---\n",
        "---\n",
        "---\n",
        "\n"
      ],
      "metadata": {
        "id": "KxmuJ_gkN35-"
      }
    },
    {
      "cell_type": "markdown",
      "source": [
        "## 87. Scramble String"
      ],
      "metadata": {
        "id": "5nUwKHaqBhdG"
      }
    },
    {
      "cell_type": "markdown",
      "source": [
        "87. Scramble String `https://leetcode.com/problems/scramble-string/`"
      ],
      "metadata": {
        "id": "whXjJEKhEoEA"
      }
    },
    {
      "cell_type": "markdown",
      "source": [
        "We can scramble a string `s` to get a string `t` using the following algorithm:\n",
        "\n",
        "1. If the length of the string is 1, stop.\n",
        "2. If the length of the string is > 1, do the following:\n",
        "> * Split the string into two non-empty substrings at a random index, i.e., if the string is `s`, divide it to `x` and `y` where `s = x + y`.\n",
        "> * **Randomly** decide to swap the two substrings or to keep them in the same order. i.e., after this step, `s` may become `s = x + y` or `s = y + x`.\n",
        "> * Apply step 1 recursively on each of the two substrings `x` and `y`.\n",
        "\n",
        "Given two strings `s1` and `s2` of **the same length**, return `true` if `s2` is a scrambled string of `s1`, otherwise, return `false`."
      ],
      "metadata": {
        "id": "kze4gqRIBhRN"
      }
    },
    {
      "cell_type": "markdown",
      "source": [
        "\n",
        "\n",
        "---\n",
        "\n"
      ],
      "metadata": {
        "id": "TVoj8DWsGWYe"
      }
    },
    {
      "cell_type": "markdown",
      "source": [
        "After breaking a string into two parts, left and right, we can find each in the original (side-by-side). We need to catch this understanding, no matter how simple it was, and apply it to further steps because every next recursive step deals with the unmodified part of the original.\n",
        "\n",
        "Further, after breaking one of the parts into two new parts, we can find each of the new parts in the original string from the beginning. Those two new parts will be side-by-side in the original.\n",
        "\n",
        "One step before the end, we have a small part of two letters, and we split it into two parts of one letter each. Again, as a consequence of recursion, we can find these two letters in the original string side-by-side.\n",
        "\n",
        "When I say \"side-by-side\", I mean in both directions.\n",
        "\n",
        "It seems to be pretty basic reasoning, but this is the solution to the problem, just this much.\n",
        "\n",
        "Let's write code for this."
      ],
      "metadata": {
        "id": "M0QnPjVdBhDv"
      }
    },
    {
      "cell_type": "code",
      "source": [
        "class Solution:\n",
        "    def isScramble(self, s1: str, s2: str) -> bool:\n",
        "        if s1 == s2:\n",
        "            return True\n",
        "        l = len(s1)\n",
        "        D = [[[False] * l for _ in range(l)] for _ in range(l)]\n",
        "        \n",
        "        for d in range(l):\n",
        "            for i1 in range(0, l-d):\n",
        "                for i2 in range(0, l-d):\n",
        "                    if d == 0:\n",
        "                        D[i1][i2][0] = s1[i1] == s2[i2]\n",
        "                    else:\n",
        "                        for m in range(0, d):\n",
        "                            if not D[i1][i2][d]:\n",
        "                                D[i1][i2][d] = (D[i1][i2][m] and D[i1+m+1][i2+m+1][d-m-1]) or (D[i1][i2+m+1][d-m-1] and D[i1+d-m][i2][m]) # # # #\n",
        "        return D[0][0][l-1]\n",
        "        "
      ],
      "metadata": {
        "id": "meprN1ADBxBe"
      },
      "execution_count": null,
      "outputs": []
    },
    {
      "cell_type": "markdown",
      "source": [
        "\n",
        "\n",
        "```\n",
        "# d == 0 -> one letter string\n",
        "# d == 1 -> two letter string\n",
        "# ...\n",
        "\n",
        "#     |<--m--->|\n",
        "# s1: 1--------x------------2\n",
        "# s2: 1--------x------------2\n",
        "# D[i1][i2][m] means s1[i1:i1+m] ~~ s2[i2:i2+m]\n",
        "\n",
        "#              |<----d-m--->|\n",
        "# s1: 1--------x------------2\n",
        "# s2: 1--------x------------2\n",
        "# D[i1+m+1][i2+m+1][d-m-1] means s1[i1+m+1:i1+d] ~~ s2[i2+m+1:i2+d]\n",
        "\n",
        "#     |<--m--->|   |<--m--->|\n",
        "# s1: 1------------x--------2\n",
        "# s2: 1--------x------------2\n",
        "#     |<----d-m--->|\n",
        "#              |<----d-m--->|\n",
        "# D[i1][i2+m+1][d-m-1] means s1[i1:i1+d-m] ~~ s2[i2+m+1:i2+d]\n",
        "\n",
        "#     |<--m--->|   |<--m--->|\n",
        "# s1: 1------------x--------2\n",
        "# s2: 1--------x------------2\n",
        "# D[i1+d-m][i2][m] means s1[i1+d-m:i1+d] ~~ s2[i2:i2+m]\n",
        "```\n",
        "\n"
      ],
      "metadata": {
        "id": "yRiOhDKfu1hi"
      }
    },
    {
      "cell_type": "markdown",
      "source": [
        "\n",
        "\n",
        "---\n",
        "---\n",
        "---\n",
        "\n"
      ],
      "metadata": {
        "id": "zBGFZexpBiVI"
      }
    },
    {
      "cell_type": "markdown",
      "source": [
        "## 115. Distinct Subsequences "
      ],
      "metadata": {
        "id": "eA8Xlxn7_myL"
      }
    },
    {
      "cell_type": "markdown",
      "source": [
        "115. Distinct Subsequences `https://leetcode.com/problems/distinct-subsequences/`"
      ],
      "metadata": {
        "id": "acjv33Zf_mkw"
      }
    },
    {
      "cell_type": "markdown",
      "source": [
        "Given two strings `s` and `t`, *return the number of distinct subsequences of `s` which equals `t`*.\n",
        "\n",
        "A string's **subsequence** is a new string formed from the original string by deleting some (can be none) of the characters without disturbing the remaining characters' relative positions. (i.e., `\"ACE\"` is a subsequence of `\"ABCDE\"` while `\"AEC\"` is not).\n",
        "\n",
        "The test cases are generated so that the answer fits on a 32-bit signed integer."
      ],
      "metadata": {
        "id": "3shLWeGU_mfB"
      }
    },
    {
      "cell_type": "code",
      "source": [
        "class Solution:\n",
        "    def numDistinct(self, s: str, t: str) -> int:\n",
        "        l_s = len(s)\n",
        "        l_t = len(t)\n",
        "        D = [[0] * l_t for _ in range(l_s)]\n",
        "        for c in range(l_t):\n",
        "            for r in range(l_s):\n",
        "                if t[c] == s[r]:\n",
        "                    if r < c:\n",
        "                        D[r][c] = 0\n",
        "                    elif c == 0:\n",
        "                        D[r][c] = D[r-1][c] + 1\n",
        "                    else:\n",
        "                        D[r][c] = D[r-1][c-1] + D[r-1][c]\n",
        "                else:\n",
        "                    if r >= c:\n",
        "                        D[r][c] = D[r-1][c]\n",
        "        return D[-1][-1]"
      ],
      "metadata": {
        "id": "BR8XTF2zAMHg"
      },
      "execution_count": null,
      "outputs": []
    },
    {
      "cell_type": "markdown",
      "source": [
        "`Just this much.`"
      ],
      "metadata": {
        "id": "0jns6C-mAolL"
      }
    },
    {
      "cell_type": "markdown",
      "source": [
        "---\n",
        "---\n",
        "---"
      ],
      "metadata": {
        "id": "WFgbAnc5_mU1"
      }
    },
    {
      "cell_type": "markdown",
      "source": [
        "## 140. Word Break II"
      ],
      "metadata": {
        "id": "HPujcu8T6dEu"
      }
    },
    {
      "cell_type": "markdown",
      "source": [
        "140. Word Break II `https://leetcode.com/problems/word-break-ii/`"
      ],
      "metadata": {
        "id": "jvbq77g96c-V"
      }
    },
    {
      "cell_type": "markdown",
      "source": [
        "Given a string `s` and a dictionary of strings `wordDict`, add spaces in `s` to construct a sentence where each word is a valid dictionary word. Return all such possible sentences in **any order**.\n",
        "\n",
        "**Note** that the same word in the dictionary may be reused multiple times in the segmentation.\n",
        "\n"
      ],
      "metadata": {
        "id": "G6Vd2Rxd6cz5"
      }
    },
    {
      "cell_type": "code",
      "source": [
        "class Solution:\n",
        "    def wordBreak(self, s: str, wordDict: List[str]) -> List[str]:\n",
        "        l = len(s)\n",
        "        M = {e: len(e) for e in wordDict}\n",
        "        D = []\n",
        "        \n",
        "        for i in range(1, l+1):\n",
        "            D.append([])\n",
        "            for k, v in M.items():\n",
        "                if i >= v:\n",
        "                    if k == s[i-v:i]:\n",
        "                        if i-v == 0:\n",
        "                            D[i-1].append(k)\n",
        "                        else:\n",
        "                            for b in D[i-v-1]:\n",
        "                                D[i-1].append(b + \" \" + k)\n",
        "        return D[-1]\n",
        "                            \n",
        "# Reasoning:                       \n",
        "                            \n",
        "# |***************|\n",
        "# |---|               ok  ---\n",
        "#  |***|              x -> there is no previous part that matches its start\n",
        "# |-----|             ok  ---\n",
        "#     |-----|         ok  --- -----\n",
        "#   |-------|         x -> there is no previous part that matches its start\n",
        "#       |---|         ok  ----- ---\n",
        "#           |----|    ok [--- ----- ----, ----- --- ----]\n",
        "#       |--------|    ok  ----- --------\n",
        "#                |-|  ok [--- ----- ---- -, ----- --- ---- -, ----- -------- -]"
      ],
      "metadata": {
        "id": "WBj8C9r965Y4"
      },
      "execution_count": null,
      "outputs": []
    },
    {
      "cell_type": "markdown",
      "source": [
        "---\n",
        "---\n",
        "---"
      ],
      "metadata": {
        "id": "LDW5gl-w7Ocq"
      }
    },
    {
      "cell_type": "markdown",
      "source": [
        "## 124. Binary Tree Maximum Path Sum"
      ],
      "metadata": {
        "id": "J2Ll6h1KfgTV"
      }
    },
    {
      "cell_type": "markdown",
      "source": [
        "124. Binary Tree Maximum Path Sum `https://leetcode.com/problems/binary-tree-maximum-path-sum/`"
      ],
      "metadata": {
        "id": "FIhPQrJNfgKU"
      }
    },
    {
      "cell_type": "markdown",
      "source": [
        "\n",
        "A **path** in a binary tree is a sequence of nodes where each pair of adjacent nodes in the sequence has an edge connecting them. A node can only appear in the sequence **at most once**. Note that the path does not need to pass through the root.\n",
        "\n",
        "The **path sum** of a path is the sum of the node's values in the path.\n",
        "\n",
        "Given the `root` of a binary tree, return *the maximum **path sum** of any **non-empty** path*."
      ],
      "metadata": {
        "id": "yb5TC9zkff_0"
      }
    },
    {
      "cell_type": "code",
      "source": [
        "# Definition for a binary tree node.\n",
        "# class TreeNode:\n",
        "#     def __init__(self, val=0, left=None, right=None):\n",
        "#         self.val = val\n",
        "#         self.left = left\n",
        "#         self.right = right\n",
        "class Solution:\n",
        "    def maxPathSum(self, root: TreeNode) -> int:\n",
        "        _m = -1000\n",
        "        \n",
        "        def rec(c):\n",
        "            nonlocal _m\n",
        "            curr = None\n",
        "            send = None\n",
        "            if c.left is None and c.right is None:\n",
        "                curr = c.val\n",
        "                send = c.val\n",
        "            elif c.right is None:\n",
        "                curr = send = max(c.val, c.val + rec(c.left))\n",
        "            elif c.left is None:\n",
        "                curr = send = max(c.val, c.val + rec(c.right))\n",
        "            else:\n",
        "                l = rec(c.left)\n",
        "                r = rec(c.right)\n",
        "                curr = max(c.val, c.val + l, c.val + r, c.val + l + r)\n",
        "                send = max(c.val, c.val + l, c.val + r)\n",
        "            if curr > _m:\n",
        "                _m = curr\n",
        "            return send\n",
        "        \n",
        "        rec(root)\n",
        "        return _m"
      ],
      "metadata": {
        "id": "7R2dGS3RgARf"
      },
      "execution_count": null,
      "outputs": []
    },
    {
      "cell_type": "markdown",
      "source": [
        "---\n",
        "---\n",
        "---"
      ],
      "metadata": {
        "id": "LuYt8pNugGwo"
      }
    },
    {
      "cell_type": "markdown",
      "source": [
        "## 354. Russian Doll Envelopes"
      ],
      "metadata": {
        "id": "wfG5wxZqZWhO"
      }
    },
    {
      "cell_type": "markdown",
      "source": [
        "354. Russian Doll Envelopes `https://leetcode.com/problems/russian-doll-envelopes/`"
      ],
      "metadata": {
        "id": "klbeqAVpZWZK"
      }
    },
    {
      "cell_type": "markdown",
      "source": [
        "You are given a 2D array of integers envelopes where `envelopes[i] = [wi, hi]` represents the width and the height of an envelope.\n",
        "\n",
        "One envelope can fit into another if and only if both the width and height of one envelope are greater than the other envelope's width and height.\n",
        "\n",
        "Return *the maximum number of envelopes you can Russian doll (i.e., put one inside the other)*.\n",
        "\n",
        "**Note:** You cannot rotate an envelope."
      ],
      "metadata": {
        "id": "0OA5HrHrZWOs"
      }
    },
    {
      "cell_type": "code",
      "source": [
        "class Solution:\n",
        "    def maxEnvelopes(self, envelopes: List[List[int]]) -> int:\n",
        "        E = envelopes\n",
        "        E.sort(key=lambda e: (e[0], -e[1]))\n",
        "        D = [E[0][1]]\n",
        "\n",
        "        for [w, h] in E:\n",
        "            if h > D[-1]:\n",
        "                D.append(h)\n",
        "            else:\n",
        "                for i in range(len(D)-1, -1, -1):\n",
        "                    if i == 0 or (D[i] >= h and D[i-1] < h):\n",
        "                        D[i] = h\n",
        "                        break\n",
        "        return len(D)"
      ],
      "metadata": {
        "id": "vqxmkGoHZuDz"
      },
      "execution_count": null,
      "outputs": []
    },
    {
      "cell_type": "markdown",
      "source": [
        "```\n",
        "Value in position i-1 in D array shows how high the envelope should be to digest i-1 smaller envelopes. \n",
        "Steps:\n",
        "- Suppose we encounter an envelope with a higher height than the last value in D. \n",
        "- - in that case, we can ADD its height in D. \n",
        "- If we meet an envelope that has a smaller height than the last value in D, \n",
        "- - we check if it is higher than the value before the last value in D. \n",
        "- - - If this is so, we can replace the last value in D with its height; \n",
        "- - - if not, we decrement checking positions and try again, etc.\n",
        "\n",
        "D=[]                   E=[[46, 89], [50, 53], [52, 68], [72, 45], [77, 81]]\n",
        "D=[89]                 E=[[50, 53], [52, 68], [72, 45], [77, 81]]\n",
        "D=[53]                 E=[[52, 68], [72, 45], [77, 81]]\n",
        "D=[53,68]              E=[[72, 45], [77, 81]]\n",
        "D=[45,68]              E=[[77, 81]]\n",
        "D=[45,68,81]           E=[]\n",
        "```"
      ],
      "metadata": {
        "id": "Cx5piUoNZ6p7"
      }
    },
    {
      "cell_type": "markdown",
      "source": [
        "---\n",
        "---\n",
        "---"
      ],
      "metadata": {
        "id": "UhxtRsnDZzCi"
      }
    },
    {
      "cell_type": "markdown",
      "source": [
        "# `Theory`"
      ],
      "metadata": {
        "id": "SJ0VkOYwheRz"
      }
    },
    {
      "cell_type": "markdown",
      "source": [
        "## ..."
      ],
      "metadata": {
        "id": "7vHM1IYx1O2u"
      }
    }
  ]
}